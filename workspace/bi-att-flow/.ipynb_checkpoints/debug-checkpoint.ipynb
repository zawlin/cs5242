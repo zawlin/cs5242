{
 "cells": [
  {
   "cell_type": "code",
   "execution_count": null,
   "metadata": {},
   "outputs": [],
   "source": [
    "import json\n",
    "orig_data=json.loads(open('/home/zawlin/g/nus/cs5242/bi-att-flow/data/squad/train-v1.1.json').read())\n",
    "nus_data=json.loads(open('/home/zawlin/g/nus/cs5242/bi-att-flow/data/train.json').read())\n",
    "dev_data=json.loads(open('/home/zawlin/g/nus/cs5242/bi-att-flow/data/squad/dev-v1.1.json').read())\n",
    "\n",
    "test_data=json.loads(open('/home/zawlin/g/nus/cs5242/bi-att-flow/data/test.json').read())\n",
    "#/home/zawlin/g/nus/cs5242/bi-att-flow/data/test.json\n",
    "\n"
   ]
  },
  {
   "cell_type": "code",
   "execution_count": null,
   "metadata": {},
   "outputs": [],
   "source": [
    "nus_titles = [x['title'] for x in nus_data]\n",
    "orig_train_titles = [x['title'] for x in orig_data['data']]\n",
    "dev_titles = [x['title'] for x in dev_data['data']]\n",
    "orig_titles = orig_train_titles+dev_titles\n",
    "test_titles = [x['title'] for x in test_data]\n",
    "#print(orig_titles)\n",
    "#print(nus_titles.issubset(orig_titles))\n",
    "cnt = 0\n",
    "for n in test_titles:\n",
    "    if n not in orig_titles:\n",
    "        cnt+=1\n",
    "        print (n)\n",
    "        \n",
    "print(cnt)"
   ]
  },
  {
   "cell_type": "code",
   "execution_count": null,
   "metadata": {},
   "outputs": [],
   "source": [
    "test_data[0]['title']"
   ]
  },
  {
   "cell_type": "code",
   "execution_count": null,
   "metadata": {},
   "outputs": [],
   "source": [
    "#print(train_json['data'])\n",
    "print(len(train_json['data']))\n",
    "\n",
    "orig_same_nus = []\n",
    "nus_ctx = None\n",
    "squad_ctx = None\n",
    "for ctx in train_json['data']:\n",
    "    if ctx['title'] == 'Edmund_Burke':\n",
    "        nus_ctx = test_data[0]\n",
    "        squad_ctx = ctx\n",
    "        break"
   ]
  },
  {
   "cell_type": "code",
   "execution_count": null,
   "metadata": {},
   "outputs": [],
   "source": [
    "comb = {}\n",
    "#comb['nus'] =nus_ctx\n",
    "#comb['squad'] squad_ctx\n",
    "print(nus_ctx)\n",
    "#print('--------')\n",
    "#print(squad_ctx)"
   ]
  },
  {
   "cell_type": "code",
   "execution_count": null,
   "metadata": {},
   "outputs": [],
   "source": [
    "import json\n",
    "#json_data=open('/home/zawlin/g/nus/cs5242/bi-att-flow/out/basic/00/answer/test-002000.json').read()\n",
    "\n",
    "#data_answer = json.loads(json_data)\n",
    "\n",
    "data_test=json.loads(open('/home/zawlin/g/nus/cs5242/bi-att-flow/data/squad/data_single.json').read())\n",
    "shared_test=json.loads(open('/home/zawlin/g/nus/cs5242/bi-att-flow/data/squad/shared_single.json').read())\n",
    "\n",
    "\n",
    "#answer_single=json.loads(open('/home/zawlin/g/nus/cs5242/bi-att-flow/out/basic/00/answer/single-002000.json').read())\n"
   ]
  },
  {
   "cell_type": "code",
   "execution_count": null,
   "metadata": {},
   "outputs": [],
   "source": [
    "print(shared_test.keys())\n",
    "print(data_test.keys())\n",
    "print(data_test['*cx'])"
   ]
  },
  {
   "cell_type": "code",
   "execution_count": null,
   "metadata": {},
   "outputs": [],
   "source": [
    "#print(data_test['ids']['061417'])\n",
    "print(shared_test.keys())\n",
    "print(shared_test['p'][0])\n",
    "print(data_test.keys())\n",
    "print(data_test['ids'].index('061417'))\n",
    "print(data_test['answerss'][38])\n",
    "print(data_test['q'][38])\n",
    "\n",
    "#print(shared_test.keys())\n",
    "#print(data_answer[list(data_answer.keys())[5]])"
   ]
  },
  {
   "cell_type": "code",
   "execution_count": null,
   "metadata": {},
   "outputs": [],
   "source": [
    "#print(answer_single.keys())\n",
    "import string\n",
    "import re\n",
    "def normalize_answer(s):\n",
    "    \"\"\"Lower text and remove punctuation, articles and extra whitespace.\"\"\"\n",
    "    def remove_articles(text):\n",
    "        return re.sub(r'\\b(a|an|the)\\b', ' ', text)\n",
    "\n",
    "    def white_space_fix(text):\n",
    "        return ' '.join(text.split())\n",
    "\n",
    "    def remove_punc(text):\n",
    "        exclude = set(string.punctuation)\n",
    "        return ''.join(ch for ch in text if ch not in exclude)\n",
    "\n",
    "    def lower(text):\n",
    "        return text.lower()\n",
    "    \n",
    "    return white_space_fix(remove_articles(remove_punc(lower(s))))\n",
    "\n",
    "answer_single=json.loads(open('/home/zawlin/answer.json').read())\n",
    "\n",
    "\n",
    "ret='Id,Answer\\n'\n",
    "for k in answer_single.keys():\n",
    "    if k !='scores':\n",
    "        ret+=k + ',' +normalize_answer(answer_single[k])+'\\r\\n'\n",
    "f=open('/home/zawlin/g/nus/cs5242/bi-att-flow/out/basic/00/answer/answer.csv','w')\n",
    "f.write(ret)\n",
    "f.close()"
   ]
  },
  {
   "cell_type": "code",
   "execution_count": null,
   "metadata": {},
   "outputs": [],
   "source": [
    "print(answer_single['scores'])"
   ]
  },
  {
   "cell_type": "code",
   "execution_count": null,
   "metadata": {},
   "outputs": [],
   "source": []
  }
 ],
 "metadata": {
  "kernelspec": {
   "display_name": "Python 3",
   "language": "python",
   "name": "python3"
  },
  "language_info": {
   "codemirror_mode": {
    "name": "ipython",
    "version": 3
   },
   "file_extension": ".py",
   "mimetype": "text/x-python",
   "name": "python",
   "nbconvert_exporter": "python",
   "pygments_lexer": "ipython3",
   "version": "3.5.2"
  }
 },
 "nbformat": 4,
 "nbformat_minor": 2
}
